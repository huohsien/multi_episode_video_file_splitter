{
 "cells": [
  {
   "cell_type": "code",
   "execution_count": 2,
   "source": [
    "import os"
   ],
   "outputs": [],
   "metadata": {}
  },
  {
   "cell_type": "code",
   "execution_count": 4,
   "source": [
    "src_path = \"/Users/huohsien/Desktop/temp/The Killing - S1 E8- S2 E5 -- 20211010_033736.mp4\"\n",
    "# MIN_MINUTES = 40\n",
    "MAX_MINUTES = 10000"
   ],
   "outputs": [],
   "metadata": {}
  },
  {
   "cell_type": "code",
   "execution_count": 5,
   "source": [
    "path_parts = os.path.split(src_path)\n",
    "dst_path = path_parts[0] + \"/\" + path_parts[1].split(\".\")[0]+\".mov\""
   ],
   "outputs": [],
   "metadata": {}
  },
  {
   "cell_type": "markdown",
   "source": [
    "Get audio track only and store to a file with the same path and name but with new extension of \".mov\""
   ],
   "metadata": {}
  },
  {
   "cell_type": "code",
   "execution_count": null,
   "source": [
    "cmd_str = \"ffmpeg -i \\\"{}\\\" -map 0:a -c copy \\\"{}\\\"\".format(src_path, dst_path)\n",
    "print(\"cmd_str= \", cmd_str)\n",
    "os.system(cmd_str)"
   ],
   "outputs": [],
   "metadata": {}
  },
  {
   "cell_type": "markdown",
   "source": [
    "Get silent time (start,end) pairs for splitting the video file into one per episode"
   ],
   "metadata": {}
  },
  {
   "cell_type": "code",
   "execution_count": 6,
   "source": [
    "import subprocess\n",
    "from subprocess import Popen\n",
    "\n",
    "path_to_output_file = './myoutput.txt'\n",
    "myoutput = open(path_to_output_file,'w+')\n",
    "\n",
    "# cmd_str = \"ffmpeg -i \\\"{}\\\" -af silencedetect=noise=-50dB:d=5 -f null -\".format(dst_path)\n",
    "\n",
    "p = Popen([\"ffmpeg\", \"-i\", dst_path, \"-af\", \"silencedetect=noise=-50dB:d=5\", \"-f\", \"null\", \"-\"], stdout=subprocess.PIPE, stderr=subprocess.PIPE, universal_newlines=True)\n",
    "stdout, stderr = p.communicate()"
   ],
   "outputs": [],
   "metadata": {}
  },
  {
   "cell_type": "code",
   "execution_count": 11,
   "source": [
    "import re\n",
    "silence_starts = re.findall(\"silence_start:(.*)\", stderr)\n",
    "silence_ends = re.findall(\"silence_end:(.*)\\|\", stderr)\n",
    "for idx in range(len(silence_starts)):\n",
    "    print(\"silence - idx= {} , {} ~ {}\".format(idx, silence_starts[idx], silence_ends[idx])) "
   ],
   "outputs": [
    {
     "output_type": "stream",
     "name": "stdout",
     "text": [
      "silence - idx= 0 ,  0.0385625 ~  8.18769 \n",
      "silence - idx= 1 ,  2797.44 ~  2812.15 \n",
      "silence - idx= 2 ,  5792.43 ~  5808.01 \n",
      "silence - idx= 3 ,  8846.28 ~  8860.25 \n",
      "silence - idx= 4 ,  11897.5 ~  11912 \n",
      "silence - idx= 5 ,  14695.3 ~  14709.8 \n",
      "silence - idx= 6 ,  17133.2 ~  17139.8 \n",
      "silence - idx= 7 ,  17581.9 ~  17594.7 \n",
      "silence - idx= 8 ,  20285.1 ~  20297.6 \n",
      "silence - idx= 9 ,  23178 ~  23195.6 \n",
      "silence - idx= 10 ,  25780.1 ~  25796.3 \n",
      "silence - idx= 11 ,  28709.1 ~  28722.9 \n"
     ]
    }
   ],
   "metadata": {}
  },
  {
   "cell_type": "code",
   "execution_count": 12,
   "source": [
    "time_range_strings = []\n",
    "\n",
    "for idx, t1 in enumerate(silence_ends):\n",
    "    if idx == len(silence_starts)-1:\n",
    "        t2 = MAX_MINUTES * 60\n",
    "    else:\n",
    "        t2 = silence_starts[idx+1]\n",
    "\n",
    "    # if float(t2) - float(t1) < MIN_MINUTES * 60:\n",
    "    #     print(\"too short:{}\".format((float(t2) - float(t1))/60))\n",
    "    #     continue\n",
    "    # print(\"Duration:{}\".format((float(t2) - float(t1))/60))\n",
    "    time_range_string = \"-ss{}-to {}\".format(t1, t2)\n",
    "    print(\"idx= {} , {}\".format(idx, time_range_string))\n",
    "    time_range_strings.append(time_range_string)\n",
    "\n",
    "# time_range_strings    "
   ],
   "outputs": [
    {
     "output_type": "stream",
     "name": "stdout",
     "text": [
      "idx= 0 , -ss 8.18769 -to  2797.44\n",
      "idx= 1 , -ss 2812.15 -to  5792.43\n",
      "idx= 2 , -ss 5808.01 -to  8846.28\n",
      "idx= 3 , -ss 8860.25 -to  11897.5\n",
      "idx= 4 , -ss 11912 -to  14695.3\n",
      "idx= 5 , -ss 14709.8 -to  17133.2\n",
      "idx= 6 , -ss 17139.8 -to  17581.9\n",
      "idx= 7 , -ss 17594.7 -to  20285.1\n",
      "idx= 8 , -ss 20297.6 -to  23178\n",
      "idx= 9 , -ss 23195.6 -to  25780.1\n",
      "idx= 10 , -ss 25796.3 -to  28709.1\n",
      "idx= 11 , -ss 28722.9 -to 600000\n"
     ]
    }
   ],
   "metadata": {}
  },
  {
   "cell_type": "code",
   "execution_count": 9,
   "source": [
    "for idx, time_range_string in enumerate(time_range_strings):\n",
    "    cmd_str = \"ffmpeg -i \\\"{}\\\" -vcodec copy -acodec copy {} \\\"{}\\\"\".format(src_path, time_range_string, path_parts[0] + \"/\" + path_parts[1].split(\".\")[0] + \"-{:02d}.\".format(idx) + path_parts[1].split(\".\")[1])\n",
    "    print(\"cmd_str= \", cmd_str)\n",
    "    os.system(cmd_str)"
   ],
   "outputs": [
    {
     "output_type": "stream",
     "name": "stdout",
     "text": [
      "cmd_str=  ffmpeg -i \"/Users/huohsien/Desktop/temp/The Killing - S1 E8- S2 E5 -- 20211010_033736.mp4\" -vcodec copy -acodec copy -ss 8.18769 -to  2797.44 \"/Users/huohsien/Desktop/temp/The Killing - S1 E8- S2 E5 -- 20211010_033736-00.mp4\"\n",
      "cmd_str=  ffmpeg -i \"/Users/huohsien/Desktop/temp/The Killing - S1 E8- S2 E5 -- 20211010_033736.mp4\" -vcodec copy -acodec copy -ss 2812.15 -to  5792.43 \"/Users/huohsien/Desktop/temp/The Killing - S1 E8- S2 E5 -- 20211010_033736-01.mp4\"\n",
      "cmd_str=  ffmpeg -i \"/Users/huohsien/Desktop/temp/The Killing - S1 E8- S2 E5 -- 20211010_033736.mp4\" -vcodec copy -acodec copy -ss 5808.01 -to  8846.28 \"/Users/huohsien/Desktop/temp/The Killing - S1 E8- S2 E5 -- 20211010_033736-02.mp4\"\n",
      "cmd_str=  ffmpeg -i \"/Users/huohsien/Desktop/temp/The Killing - S1 E8- S2 E5 -- 20211010_033736.mp4\" -vcodec copy -acodec copy -ss 8860.25 -to  11897.5 \"/Users/huohsien/Desktop/temp/The Killing - S1 E8- S2 E5 -- 20211010_033736-03.mp4\"\n",
      "cmd_str=  ffmpeg -i \"/Users/huohsien/Desktop/temp/The Killing - S1 E8- S2 E5 -- 20211010_033736.mp4\" -vcodec copy -acodec copy -ss 11912 -to  14695.3 \"/Users/huohsien/Desktop/temp/The Killing - S1 E8- S2 E5 -- 20211010_033736-04.mp4\"\n",
      "cmd_str=  ffmpeg -i \"/Users/huohsien/Desktop/temp/The Killing - S1 E8- S2 E5 -- 20211010_033736.mp4\" -vcodec copy -acodec copy -ss 14709.8 -to  17133.2 \"/Users/huohsien/Desktop/temp/The Killing - S1 E8- S2 E5 -- 20211010_033736-05.mp4\"\n",
      "cmd_str=  ffmpeg -i \"/Users/huohsien/Desktop/temp/The Killing - S1 E8- S2 E5 -- 20211010_033736.mp4\" -vcodec copy -acodec copy -ss 17139.8 -to  17581.9 \"/Users/huohsien/Desktop/temp/The Killing - S1 E8- S2 E5 -- 20211010_033736-06.mp4\"\n",
      "cmd_str=  ffmpeg -i \"/Users/huohsien/Desktop/temp/The Killing - S1 E8- S2 E5 -- 20211010_033736.mp4\" -vcodec copy -acodec copy -ss 17594.7 -to  20285.1 \"/Users/huohsien/Desktop/temp/The Killing - S1 E8- S2 E5 -- 20211010_033736-07.mp4\"\n",
      "cmd_str=  ffmpeg -i \"/Users/huohsien/Desktop/temp/The Killing - S1 E8- S2 E5 -- 20211010_033736.mp4\" -vcodec copy -acodec copy -ss 20297.6 -to  23178 \"/Users/huohsien/Desktop/temp/The Killing - S1 E8- S2 E5 -- 20211010_033736-08.mp4\"\n",
      "cmd_str=  ffmpeg -i \"/Users/huohsien/Desktop/temp/The Killing - S1 E8- S2 E5 -- 20211010_033736.mp4\" -vcodec copy -acodec copy -ss 23195.6 -to  25780.1 \"/Users/huohsien/Desktop/temp/The Killing - S1 E8- S2 E5 -- 20211010_033736-09.mp4\"\n",
      "cmd_str=  ffmpeg -i \"/Users/huohsien/Desktop/temp/The Killing - S1 E8- S2 E5 -- 20211010_033736.mp4\" -vcodec copy -acodec copy -ss 25796.3 -to  28709.1 \"/Users/huohsien/Desktop/temp/The Killing - S1 E8- S2 E5 -- 20211010_033736-10.mp4\"\n",
      "cmd_str=  ffmpeg -i \"/Users/huohsien/Desktop/temp/The Killing - S1 E8- S2 E5 -- 20211010_033736.mp4\" -vcodec copy -acodec copy -ss 28722.9 -to 600000 \"/Users/huohsien/Desktop/temp/The Killing - S1 E8- S2 E5 -- 20211010_033736-11.mp4\"\n"
     ]
    }
   ],
   "metadata": {}
  },
  {
   "cell_type": "markdown",
   "source": [
    "For fixing wrongfully cut videos"
   ],
   "metadata": {}
  },
  {
   "cell_type": "code",
   "execution_count": 13,
   "source": [
    "# cmd_str = \"ffmpeg -i \\\"{}\\\" -vcodec copy -acodec copy {} \\\"{}\\\"\".format(src_path, \"-ss 14709.8 -to 17581.9\", path_parts[0] + \"/\" + path_parts[1].split(\".\")[0] + \"-0506.\" + path_parts[1].split(\".\")[1])\n",
    "# print(\"cmd_str= \", cmd_str)\n",
    "# os.system(cmd_str)"
   ],
   "outputs": [
    {
     "output_type": "stream",
     "name": "stdout",
     "text": [
      "cmd_str=  ffmpeg -i \"/Users/huohsien/Desktop/temp/The Killing - S1 E8- S2 E5 -- 20211010_033736.mp4\" -vcodec copy -acodec copy -ss 14709.8 -to 17581.9 \"/Users/huohsien/Desktop/temp/The Killing - S1 E8- S2 E5 -- 20211010_033736-0506.mp4\"\n"
     ]
    },
    {
     "output_type": "execute_result",
     "data": {
      "text/plain": [
       "0"
      ]
     },
     "metadata": {},
     "execution_count": 13
    }
   ],
   "metadata": {}
  },
  {
   "cell_type": "code",
   "execution_count": 24,
   "source": [
    "t_s = 23195\n",
    "\n",
    "t_m = int(t_s/60)\n",
    "s = t_s - t_m*60\n",
    "t_h = int(t_m/60)\n",
    "m = t_m - t_h*60\n",
    "\n",
    "h = t_h\n",
    "h,m,s"
   ],
   "outputs": [
    {
     "output_type": "execute_result",
     "data": {
      "text/plain": [
       "(6, 26, 35)"
      ]
     },
     "metadata": {},
     "execution_count": 24
    }
   ],
   "metadata": {}
  }
 ],
 "metadata": {
  "orig_nbformat": 4,
  "language_info": {
   "name": "python",
   "version": "3.7.1",
   "mimetype": "text/x-python",
   "codemirror_mode": {
    "name": "ipython",
    "version": 3
   },
   "pygments_lexer": "ipython3",
   "nbconvert_exporter": "python",
   "file_extension": ".py"
  },
  "kernelspec": {
   "name": "python3",
   "display_name": "Python 3.7.1 64-bit ('py3': conda)"
  },
  "interpreter": {
   "hash": "2a148de0c2b8ac7deb397b5ad90c0a4feab1ed46e9dfae580beec3b426cf5c67"
  }
 },
 "nbformat": 4,
 "nbformat_minor": 2
}